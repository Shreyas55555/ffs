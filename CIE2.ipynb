{
  "nbformat": 4,
  "nbformat_minor": 0,
  "metadata": {
    "colab": {
      "provenance": []
    },
    "kernelspec": {
      "name": "python3",
      "display_name": "Python 3"
    },
    "language_info": {
      "name": "python"
    }
  },
  "cells": [
    {
      "cell_type": "code",
      "execution_count": 36,
      "metadata": {
        "colab": {
          "base_uri": "https://localhost:8080/"
        },
        "id": "0maLYVrKwrmC",
        "outputId": "37cb4e05-bf81-49e0-df88-4e5542180fd0"
      },
      "outputs": [
        {
          "output_type": "stream",
          "name": "stdout",
          "text": [
            "<class 'pandas.core.frame.DataFrame'>\n",
            "RangeIndex: 891 entries, 0 to 890\n",
            "Data columns (total 12 columns):\n",
            " #   Column       Non-Null Count  Dtype  \n",
            "---  ------       --------------  -----  \n",
            " 0   PassengerId  891 non-null    int64  \n",
            " 1   Survived     891 non-null    int64  \n",
            " 2   Pclass       891 non-null    int64  \n",
            " 3   Name         891 non-null    object \n",
            " 4   Sex          891 non-null    object \n",
            " 5   Age          714 non-null    float64\n",
            " 6   SibSp        891 non-null    int64  \n",
            " 7   Parch        891 non-null    int64  \n",
            " 8   Ticket       891 non-null    object \n",
            " 9   Fare         891 non-null    float64\n",
            " 10  Cabin        204 non-null    object \n",
            " 11  Embarked     889 non-null    object \n",
            "dtypes: float64(2), int64(5), object(5)\n",
            "memory usage: 83.7+ KB\n",
            "29.69911764705882\n",
            "28.0\n",
            "0    24.0\n",
            "Name: Age, dtype: float64\n"
          ]
        }
      ],
      "source": [
        "import pandas as pd\n",
        "import seaborn as sns\n",
        "import matplotlib.pyplot as plt\n",
        "data=pd.read_csv('/content/titanic.csv')\n",
        "data.head()\n",
        "data.info()\n",
        "print(data['Age'].mean())\n",
        "print(data['Age'].median())\n",
        "print(data['Age'].mode())\n"
      ]
    },
    {
      "cell_type": "code",
      "source": [
        "data.info()"
      ],
      "metadata": {
        "colab": {
          "base_uri": "https://localhost:8080/"
        },
        "id": "gDUCFcoA4gjz",
        "outputId": "cbdf28ed-c777-4fd3-abc1-9a1b2434dd66"
      },
      "execution_count": 37,
      "outputs": [
        {
          "output_type": "stream",
          "name": "stdout",
          "text": [
            "<class 'pandas.core.frame.DataFrame'>\n",
            "RangeIndex: 891 entries, 0 to 890\n",
            "Data columns (total 12 columns):\n",
            " #   Column       Non-Null Count  Dtype  \n",
            "---  ------       --------------  -----  \n",
            " 0   PassengerId  891 non-null    int64  \n",
            " 1   Survived     891 non-null    int64  \n",
            " 2   Pclass       891 non-null    int64  \n",
            " 3   Name         891 non-null    object \n",
            " 4   Sex          891 non-null    object \n",
            " 5   Age          714 non-null    float64\n",
            " 6   SibSp        891 non-null    int64  \n",
            " 7   Parch        891 non-null    int64  \n",
            " 8   Ticket       891 non-null    object \n",
            " 9   Fare         891 non-null    float64\n",
            " 10  Cabin        204 non-null    object \n",
            " 11  Embarked     889 non-null    object \n",
            "dtypes: float64(2), int64(5), object(5)\n",
            "memory usage: 83.7+ KB\n"
          ]
        }
      ]
    },
    {
      "cell_type": "code",
      "source": [
        "data['survived']=data['Survived'].replace({1:'Survived',0:'Notsurvived'})\n",
        "sns.countplot(data['survived'])\n",
        "plt.show()\n",
        "print(data['survived'])\n"
      ],
      "metadata": {
        "colab": {
          "base_uri": "https://localhost:8080/",
          "height": 657
        },
        "id": "fLITQHp1xHcX",
        "outputId": "baee2297-d475-4858-b2e5-c11776a9b2ed"
      },
      "execution_count": 31,
      "outputs": [
        {
          "output_type": "display_data",
          "data": {
            "text/plain": [
              "<Figure size 640x480 with 1 Axes>"
            ],
            "image/png": "[encoded data removed]"
          },
          "metadata": {}
        },
        {
          "output_type": "stream",
          "name": "stdout",
          "text": [
            "0      Notsurvived\n",
            "1         Survived\n",
            "2         Survived\n",
            "3         Survived\n",
            "4      Notsurvived\n",
            "          ...     \n",
            "886    Notsurvived\n",
            "887       Survived\n",
            "888    Notsurvived\n",
            "889       Survived\n",
            "890    Notsurvived\n",
            "Name: survived, Length: 891, dtype: object\n"
          ]
        }
      ]
    },
    {
      "cell_type": "code",
      "source": [
        "sns.countplot(x='Pclass',data=data)\n",
        "plt.show()\n",
        "\n",
        "\n"
      ],
      "metadata": {
        "colab": {
          "base_uri": "https://localhost:8080/",
          "height": 449
        },
        "id": "xjxJ15mM1YLy",
        "outputId": "8e7bc193-98b1-4b3f-8589-1b4053856688"
      },
      "execution_count": 38,
      "outputs": [
        {
          "output_type": "display_data",
          "data": {
            "text/plain": [
              "<Figure size 640x480 with 1 Axes>"
            ],
            "image/png": "[encoded data removed]"
          },
          "metadata": {}
        }
      ]
    },
    {
      "cell_type": "code",
      "source": [
        "print(data['Age'].isna().sum())"
      ],
      "metadata": {
        "colab": {
          "base_uri": "https://localhost:8080/"
        },
        "id": "WzwytQAFx-Sz",
        "outputId": "1b8c46c8-c0d9-44f2-f43a-0671b7bf28a7"
      },
      "execution_count": 6,
      "outputs": [
        {
          "output_type": "stream",
          "name": "stdout",
          "text": [
            "177\n"
          ]
        }
      ]
    },
    {
      "cell_type": "code",
      "source": [
        "df=data['Age'].fillna(data['Age'].mean(),inplace=True)\n",
        "print(df)\n",
        "print(data['Age'].isna().sum())\n"
      ],
      "metadata": {
        "colab": {
          "base_uri": "https://localhost:8080/"
        },
        "id": "96c07kUjyLAF",
        "outputId": "9ad39985-2509-45cc-e8f7-7882e3d07753"
      },
      "execution_count": 10,
      "outputs": [
        {
          "output_type": "stream",
          "name": "stdout",
          "text": [
            "None\n",
            "0\n"
          ]
        }
      ]
    },
    {
      "cell_type": "code",
      "source": [
        "from scipy import stats\n",
        "import numpy as np\n",
        "z_scores = np.abs(stats.zscore(data[['Fare']].select_dtypes(include=np.number)))\n",
        "print(z_scores)\n",
        "outliers_df = data[(z_scores > 3).all(axis=1)]\n",
        "print(outliers_df)\n",
        "outliers=pd.DataFrame(outliers_df)\n"
      ],
      "metadata": {
        "colab": {
          "base_uri": "https://localhost:8080/"
        },
        "id": "hajQI6zQytk-",
        "outputId": "e4aff06c-7db8-4ab2-8aab-1614dd1ac7c6"
      },
      "execution_count": 17,
      "outputs": [
        {
          "output_type": "stream",
          "name": "stdout",
          "text": [
            "         Fare\n",
            "0    0.502445\n",
            "1    0.786845\n",
            "2    0.488854\n",
            "3    0.420730\n",
            "4    0.486337\n",
            "..        ...\n",
            "886  0.386671\n",
            "887  0.044381\n",
            "888  0.176263\n",
            "889  0.044381\n",
            "890  0.492378\n",
            "\n",
            "[891 rows x 1 columns]\n",
            "     PassengerId  Survived  Pclass  \\\n",
            "27            28         0       1   \n",
            "88            89         1       1   \n",
            "118          119         0       1   \n",
            "258          259         1       1   \n",
            "299          300         1       1   \n",
            "311          312         1       1   \n",
            "341          342         1       1   \n",
            "377          378         0       1   \n",
            "380          381         1       1   \n",
            "438          439         0       1   \n",
            "527          528         0       1   \n",
            "557          558         0       1   \n",
            "679          680         1       1   \n",
            "689          690         1       1   \n",
            "700          701         1       1   \n",
            "716          717         1       1   \n",
            "730          731         1       1   \n",
            "737          738         1       1   \n",
            "742          743         1       1   \n",
            "779          780         1       1   \n",
            "\n",
            "                                                  Name     Sex        Age  \\\n",
            "27                      Fortune, Mr. Charles Alexander    male  19.000000   \n",
            "88                          Fortune, Miss. Mabel Helen  female  23.000000   \n",
            "118                           Baxter, Mr. Quigg Edmond    male  24.000000   \n",
            "258                                   Ward, Miss. Anna  female  35.000000   \n",
            "299    Baxter, Mrs. James (Helene DeLaudeniere Chaput)  female  50.000000   \n",
            "311                         Ryerson, Miss. Emily Borie  female  18.000000   \n",
            "341                     Fortune, Miss. Alice Elizabeth  female  24.000000   \n",
            "377                          Widener, Mr. Harry Elkins    male  27.000000   \n",
            "380                              Bidois, Miss. Rosalie  female  42.000000   \n",
            "438                                  Fortune, Mr. Mark    male  64.000000   \n",
            "527                                 Farthing, Mr. John    male  29.699118   \n",
            "557                                Robbins, Mr. Victor    male  29.699118   \n",
            "679                 Cardeza, Mr. Thomas Drake Martinez    male  36.000000   \n",
            "689                  Madill, Miss. Georgette Alexandra  female  15.000000   \n",
            "700  Astor, Mrs. John Jacob (Madeleine Talmadge Force)  female  18.000000   \n",
            "716                      Endres, Miss. Caroline Louise  female  38.000000   \n",
            "730                      Allen, Miss. Elisabeth Walton  female  29.000000   \n",
            "737                             Lesurer, Mr. Gustave J    male  35.000000   \n",
            "742              Ryerson, Miss. Susan Parker \"Suzette\"  female  21.000000   \n",
            "779  Robert, Mrs. Edward Scott (Elisabeth Walton Mc...  female  43.000000   \n",
            "\n",
            "     SibSp  Parch    Ticket      Fare            Cabin Embarked     survived  \n",
            "27       3      2     19950  263.0000      C23 C25 C27        S  Notsurvived  \n",
            "88       3      2     19950  263.0000      C23 C25 C27        S     Survived  \n",
            "118      0      1  PC 17558  247.5208          B58 B60        C  Notsurvived  \n",
            "258      0      0  PC 17755  512.3292              NaN        C     Survived  \n",
            "299      0      1  PC 17558  247.5208          B58 B60        C     Survived  \n",
            "311      2      2  PC 17608  262.3750  B57 B59 B63 B66        C     Survived  \n",
            "341      3      2     19950  263.0000      C23 C25 C27        S     Survived  \n",
            "377      0      2    113503  211.5000              C82        C  Notsurvived  \n",
            "380      0      0  PC 17757  227.5250              NaN        C     Survived  \n",
            "438      1      4     19950  263.0000      C23 C25 C27        S  Notsurvived  \n",
            "527      0      0  PC 17483  221.7792              C95        S  Notsurvived  \n",
            "557      0      0  PC 17757  227.5250              NaN        C  Notsurvived  \n",
            "679      0      1  PC 17755  512.3292      B51 B53 B55        C     Survived  \n",
            "689      0      1     24160  211.3375               B5        S     Survived  \n",
            "700      1      0  PC 17757  227.5250          C62 C64        C     Survived  \n",
            "716      0      0  PC 17757  227.5250              C45        C     Survived  \n",
            "730      0      0     24160  211.3375               B5        S     Survived  \n",
            "737      0      0  PC 17755  512.3292             B101        C     Survived  \n",
            "742      2      2  PC 17608  262.3750  B57 B59 B63 B66        C     Survived  \n",
            "779      0      1     24160  211.3375               B3        S     Survived  \n"
          ]
        }
      ]
    },
    {
      "cell_type": "code",
      "source": [
        "sns.boxplot(outliers['Fare'])"
      ],
      "metadata": {
        "colab": {
          "base_uri": "https://localhost:8080/",
          "height": 428
        },
        "id": "o0_ocZxV0pSH",
        "outputId": "f058383e-fa18-40cc-f815-26e2faf6d763"
      },
      "execution_count": 18,
      "outputs": [
        {
          "output_type": "execute_result",
          "data": {
            "text/plain": [
              "<Axes: ylabel='Fare'>"
            ]
          },
          "metadata": {},
          "execution_count": 18
        },
        {
          "output_type": "display_data",
          "data": {
            "text/plain": [
              "<Figure size 640x480 with 1 Axes>"
            ],
            "image/png": "[encoded data removed]"
          },
          "metadata": {}
        }
      ]
    }
  ]
}